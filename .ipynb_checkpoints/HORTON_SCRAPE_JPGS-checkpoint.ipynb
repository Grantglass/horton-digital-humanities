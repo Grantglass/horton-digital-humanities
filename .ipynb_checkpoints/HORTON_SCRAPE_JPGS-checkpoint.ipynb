{
 "cells": [
  {
   "cell_type": "code",
   "execution_count": 1,
   "id": "animal-sequence",
   "metadata": {},
   "outputs": [],
   "source": [
    "from internetarchive import get_item\n",
    "from internetarchive import download"
   ]
  },
  {
   "cell_type": "code",
   "execution_count": 2,
   "id": "electronic-forty",
   "metadata": {},
   "outputs": [],
   "source": [
    "file_list = ['poeticalworksofg00hort','poemsbyslavehort']"
   ]
  },
  {
   "cell_type": "code",
   "execution_count": 3,
   "id": "descending-myrtle",
   "metadata": {
    "scrolled": true
   },
   "outputs": [
    {
     "name": "stdout",
     "output_type": "stream",
     "text": [
      "poeticalworksofg00hort:\n",
      " downloaded poeticalworksofg00hort/poeticalworksofg00hort_jp2.zip to poeticalworksofg00hort/poeticalworksofg00hort_jp2.zip\n",
      "poemsbyslavehort:\n",
      " downloaded poemsbyslavehort/poemsbyslavehort_jp2.zip to poemsbyslavehort/poemsbyslavehort_jp2.zip\n"
     ]
    }
   ],
   "source": [
    "for file in file_list:\n",
    "    # Find the specific file from the list above  \n",
    "    # Use 'verbose=True' to let us know if download process is successful.\n",
    "    download(file, verbose=True, glob_pattern='*jp2.zip')"
   ]
  },
  {
   "cell_type": "code",
   "execution_count": 8,
   "id": "industrial-agenda",
   "metadata": {
    "scrolled": true
   },
   "outputs": [
    {
     "name": "stdout",
     "output_type": "stream",
     "text": [
      "Collecting patool\n",
      "  Downloading patool-1.12-py2.py3-none-any.whl (77 kB)\n",
      "\u001b[K     |████████████████████████████████| 77 kB 2.6 MB/s eta 0:00:011\n",
      "\u001b[?25hInstalling collected packages: patool\n",
      "Successfully installed patool-1.12\n"
     ]
    }
   ],
   "source": [
    "!pip install patool"
   ]
  },
  {
   "cell_type": "code",
   "execution_count": 12,
   "id": "continental-pierre",
   "metadata": {
    "scrolled": false
   },
   "outputs": [
    {
     "name": "stdout",
     "output_type": "stream",
     "text": [
      "patool: Extracting poeticalworksofg00hort/poeticalworksofg00hort_jp2.zip ...\n",
      "patool: ... poeticalworksofg00hort/poeticalworksofg00hort_jp2.zip extracted to `output'.\n"
     ]
    },
    {
     "data": {
      "text/plain": [
       "'output'"
      ]
     },
     "execution_count": 12,
     "metadata": {},
     "output_type": "execute_result"
    }
   ],
   "source": [
    "import patoolib\n",
    "patoolib.extract_archive(\"poeticalworksofg00hort/poeticalworksofg00hort_jp2.zip\", outdir='output')"
   ]
  },
  {
   "cell_type": "code",
   "execution_count": 13,
   "id": "ruled-reform",
   "metadata": {},
   "outputs": [
    {
     "name": "stdout",
     "output_type": "stream",
     "text": [
      "patool: Extracting poemsbyslavehort/poemsbyslavehort_jp2.zip ...\n",
      "patool: ... poemsbyslavehort/poemsbyslavehort_jp2.zip extracted to `output'.\n"
     ]
    },
    {
     "data": {
      "text/plain": [
       "'output'"
      ]
     },
     "execution_count": 13,
     "metadata": {},
     "output_type": "execute_result"
    }
   ],
   "source": [
    "import patoolib\n",
    "patoolib.extract_archive(\"poemsbyslavehort/poemsbyslavehort_jp2.zip\", outdir='output')"
   ]
  },
  {
   "cell_type": "code",
   "execution_count": null,
   "id": "seeing-tablet",
   "metadata": {},
   "outputs": [],
   "source": []
  }
 ],
 "metadata": {
  "kernelspec": {
   "display_name": "Python 3",
   "language": "python",
   "name": "python3"
  },
  "language_info": {
   "codemirror_mode": {
    "name": "ipython",
    "version": 3
   },
   "file_extension": ".py",
   "mimetype": "text/x-python",
   "name": "python",
   "nbconvert_exporter": "python",
   "pygments_lexer": "ipython3",
   "version": "3.7.10"
  }
 },
 "nbformat": 4,
 "nbformat_minor": 5
}
