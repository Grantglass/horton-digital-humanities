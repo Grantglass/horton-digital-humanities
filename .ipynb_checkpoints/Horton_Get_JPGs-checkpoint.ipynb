{
 "cells": [
  {
   "cell_type": "code",
   "execution_count": null,
   "id": "comprehensive-chamber",
   "metadata": {},
   "outputs": [],
   "source": [
    "#We need to import our libraries\n",
    "import os\n",
    "import requests\n",
    "from PIL import Image\n",
    "from io import BytesIO\n",
    "print(\"Libraries successfully imported.\")"
   ]
  },
  {
   "cell_type": "code",
   "execution_count": null,
   "id": "convenient-works",
   "metadata": {
    "scrolled": true
   },
   "outputs": [],
   "source": [
    "#You will need to run this once with one of the texts, then run it again with the other.\n",
    "id = 'poemsbyslavehort'\n",
    "#our two texts are called 'poemsbyslavehort', 'poeticalworksofg00hort'\n",
    "# Start from the first file in the list.\n",
    "fileCount = 0"
   ]
  },
  {
   "cell_type": "code",
   "execution_count": null,
   "id": "governmental-roads",
   "metadata": {},
   "outputs": [],
   "source": [
    "# We're about to download a bunch of images.\n",
    "# Let's move to a place where we can store them \n",
    "#MAKE SURE YOU CREATE THIS FOLDER IF IT ISNT ALREADY THERE\n",
    "path = 'img_output'\n",
    "\n",
    "# Let's also move ourselves into that folder \n",
    "# before we get going.\n",
    "jpg_output = os.chdir(path)\n",
    "\n",
    "# And let's get the current file path and print it\n",
    "# so that we can be sure we've successfuly moved:\n",
    "new_path = os.getcwd()\n",
    "print(\"I am currently in the \", new_path, \" file path.\")"
   ]
  },
  {
   "cell_type": "code",
   "execution_count": null,
   "id": "balanced-european",
   "metadata": {},
   "outputs": [],
   "source": [
    "while fileCount < 200:\n",
    "    \n",
    "    # We use a try statement here as a kind of test. \n",
    "    # We're telling the computer to 'try' to run the code below. \n",
    "    # If it doesn't work, it will jump down to the except statement \n",
    "    # below.\n",
    "    try:\n",
    "        \n",
    "        # This next step uses the fileCount variable and the \n",
    "        # str.zfill function to create the 4-digit number of each \n",
    "        # image we will download. The str.zfill function pads \n",
    "        # strings (groups of characters) in a series by prepending 0s. \n",
    "        # The following will produce a number that is 4 characters \n",
    "        # long and that ends with the current fileCount value:\n",
    "        fileNumber = str(fileCount).zfill(4)\n",
    "        \n",
    "        # The url variable below creates a url going to the \n",
    "        # .jpg file's location using both the id and fileNumber \n",
    "        # variables. We create it this way so that the url will \n",
    "        # change for each image. Here's an example of what one of \n",
    "        # those urls looks like. Sorry it's so long.:\n",
    "        # https://archive.org/download/lawsresolutionso1887nort/lawsresolutionso1887nort_jp2.zip/lawsresolutionso1887nort_jp2%2Flawsresolutionso1887nort_0000.jp2&ext=jpg\n",
    "        url = 'https://archive.org/download/' + id + '/' + id + '_jp2.zip/' + id + '_jp2%2F' + id + '_' + fileNumber + '.jp2&ext=jpg'\n",
    "        \n",
    "        # Here's where we use the requests module to call up\n",
    "        # the webpage at the url we specified above.\n",
    "        r = requests.get(url)\n",
    "        \n",
    "        # Next we use a combination of PIL, io, and requests \n",
    "        # to get access to the image and assign image data to the \n",
    "        # i variable.\n",
    "        i = Image.open(BytesIO(r.content))\n",
    "        \n",
    "        # Now we need to create a file name for the image.\n",
    "        # So that we know which image we've downloaded,\n",
    "        # it should match the fileName on the IA webpage.\n",
    "        # The statement below will produce file names that look like\n",
    "        # sessionlawsresol1955nort_0001.jpg\n",
    "        fileName = id + '_' + fileNumber + '.jpg'\n",
    "        \n",
    "        # Next, we'll save the image and \n",
    "        # name it using the fileName we created above.\n",
    "        image = i.save(fileName)\n",
    "        \n",
    "        # We'll tell the computer to print a message when\n",
    "        # all of the above is done so that we know it has\n",
    "        # successfully downloaded an image.\n",
    "        print(fileName, \" downloaded.\")\n",
    "        \n",
    "        # This little line might be the most important:\n",
    "        # We now need to change fileCount to make it 1 larger\n",
    "        # than it was (from 0 to 1 and so on). This will help\n",
    "        # the computer know to look for the next file in the list.\n",
    "        fileCount += 1\n",
    "    \n",
    "    # We've set up this except statement to handle an error.\n",
    "    # In this case, the error will likely be that there are no more\n",
    "    # images to download, but the loop hasn't finished.\n",
    "    # When the 'UnidentifiedImageError' occurs, the except\n",
    "    # statement will tell the computer to print text letting\n",
    "    # you know that there aren't any more images available on the page.\n",
    "    except UnidentifiedImageError:\n",
    "       print('No more files to download.')"
   ]
  },
  {
   "cell_type": "code",
   "execution_count": null,
   "id": "sexual-municipality",
   "metadata": {},
   "outputs": [],
   "source": []
  }
 ],
 "metadata": {
  "kernelspec": {
   "display_name": "Python 3",
   "language": "python",
   "name": "python3"
  },
  "language_info": {
   "codemirror_mode": {
    "name": "ipython",
    "version": 3
   },
   "file_extension": ".py",
   "mimetype": "text/x-python",
   "name": "python",
   "nbconvert_exporter": "python",
   "pygments_lexer": "ipython3",
   "version": "3.7.10"
  }
 },
 "nbformat": 4,
 "nbformat_minor": 5
}
